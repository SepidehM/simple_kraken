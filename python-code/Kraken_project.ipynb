{
 "cells": [
  {
   "cell_type": "code",
   "execution_count": 1,
   "metadata": {
    "collapsed": true
   },
   "outputs": [],
   "source": [
    "# library \n",
    "import jellyfish\n",
    "import pandas as pd\n",
    "import numpy as np"
   ]
  },
  {
   "cell_type": "code",
   "execution_count": 2,
   "metadata": {},
   "outputs": [
    {
     "name": "stdout",
     "output_type": "stream",
     "text": [
      "(180148, 22)\n"
     ]
    }
   ],
   "source": [
    "# read from assembly_summary file \n",
    "file_path = \"C:/Users/Sepideh/Desktop/Project/Code/quera/Bio_Algo/Data/\"\n",
    "data = pd.read_csv(file_path+\"assembly_summary.txt\", sep=\"\\t\", skiprows=1)\n",
    "print(data.shape)"
   ]
  },
  {
   "cell_type": "code",
   "execution_count": 3,
   "metadata": {
    "collapsed": false
   },
   "outputs": [
    {
     "name": "stdout",
     "output_type": "stream",
     "text": [
      "['# assembly_accession', 'bioproject', 'biosample', 'wgs_master', 'refseq_category', 'taxid', 'species_taxid', 'organism_name', 'infraspecific_name', 'isolate', 'version_status', 'assembly_level', 'release_type', 'genome_rep', 'seq_rel_date', 'asm_name', 'submitter', 'gbrs_paired_asm', 'paired_asm_comp', 'ftp_path', 'excluded_from_refseq', 'relation_to_type_material']\n"
     ]
    }
   ],
   "source": [
    "# get header of summery file\n",
    "print(data.columns.values.tolist())"
   ]
  },
  {
   "cell_type": "code",
   "execution_count": 4,
   "metadata": {},
   "outputs": [
    {
     "name": "stdout",
     "output_type": "stream",
     "text": [
      "number of unique species:\n26488\n"
     ]
    },
    {
     "name": "stdout",
     "output_type": "stream",
     "text": [
      "49453\n49469\n"
     ]
    }
   ],
   "source": [
    "print(\"number of unique species:\")\n",
    "print(len(np.unique(data['species_taxid'].tolist())))\n",
    "print(len(np.unique(data['organism_name'].tolist())))\n",
    "print(len(np.unique(data['taxid'].tolist())))\n"
   ]
  },
  {
   "cell_type": "code",
   "execution_count": 5,
   "metadata": {},
   "outputs": [
    {
     "name": "stdout",
     "output_type": "stream",
     "text": [
      "number of unique refseq_category:\n"
     ]
    },
    {
     "name": "stdout",
     "output_type": "stream",
     "text": [
      "3\n(120, 22)\n(5423, 22)\n"
     ]
    },
    {
     "name": "stdout",
     "output_type": "stream",
     "text": [
      "(174605, 22)\n"
     ]
    },
    {
     "name": "stdout",
     "output_type": "stream",
     "text": [
      "109\n"
     ]
    },
    {
     "name": "stdout",
     "output_type": "stream",
     "text": [
      "5285\n"
     ]
    },
    {
     "name": "stdout",
     "output_type": "stream",
     "text": [
      "23580\n"
     ]
    }
   ],
   "source": [
    "print(\"number of unique refseq_category:\")\n",
    "print(len(np.unique(data['refseq_category'].tolist())))\n",
    "print(data[data['refseq_category']=='reference genome'].shape)\n",
    "print(data[data['refseq_category']=='representative genome'].shape)\n",
    "print(data[data['refseq_category']=='na'].shape)\n",
    "\n",
    "\n",
    "print(len(np.unique(data[data['refseq_category']=='reference genome']['species_taxid'].tolist())))\n",
    "print(len(np.unique(data[data['refseq_category']=='representative genome']['species_taxid'].tolist())))\n",
    "print(len(np.unique(data[data['refseq_category']=='na']['species_taxid'].tolist())))\n",
    "\n"
   ]
  },
  {
   "cell_type": "code",
   "execution_count": 6,
   "metadata": {
    "collapsed": false
   },
   "outputs": [
    {
     "name": "stdout",
     "output_type": "stream",
     "text": [
      "31\n"
     ]
    }
   ],
   "source": [
    "list_t = [\n",
    "\"Thermoanaerobacter tengcongensis\",\n",
    "\"Clostridium tetani\",\n",
    "\"Clostridium perfringens\",\n",
    "\"Clostridium acetobutylicum\",\n",
    "\"Phytoplasma Onion yellows\",\n",
    "\"Mycoplasma mycoides\",\n",
    "\"Mycoplasma mobile\",\n",
    "\"Mycoplasma pulmonis\",\n",
    "\"Ureaplasma parvum\",\n",
    "\"Mycoplasma penetrans\",\n",
    "\"Mycoplasma gallisepticum\",\n",
    "\"Mycoplasma pneumoniae\",\n",
    "\"Mycoplasma genitalium\",\n",
    "\"Staphylococcus epidermidis\",\n",
    "\"Staphylococcus aureus MW2\",\n",
    "\"Staphylococcus aureus N315\",\n",
    "\"Staphylococcus aureus Mu50\",\n",
    "\"Listeria innocua\",\n",
    "\"Listeria monocytogenes F2365\",\n",
    "\"Listeria monocytogenes EGD\",\n",
    "\"Oceanobacillus iheyensis\",\n",
    "\"Bacillus halodurans\",\n",
    "\"Bacillus subtilis\",\n",
    "\"Bacillus anthracis\",\n",
    "\"Bacillus cereus ATCC 14579\",\n",
    "\"Bacillus cereus ATCC 10987\",\n",
    "\"Lactobacillus johnsonii\",\n",
    "\"Lactobacillus plantarum\",\n",
    "\"Enterococcus faecalis\",\n",
    "\"Lactococcus lactis\",\n",
    "\"Streptococcus pneumoniae R6\",\n",
    "\"Streptococcus pneumoniae TIGR4\",\n",
    "\"Streptococcus mutans\",\n",
    "\"Streptococcus agalactiae III\",\n",
    "\"Streptococcus agalactiae V\",\n",
    "\"Streptococcus pyogenes M1\",\n",
    "\"Streptococcus pyogenes MGAS8232\",\n",
    "\"Streptococcus pyogenes MGAS315\",\n",
    "\"Streptococcus pyogenes SSI-1\",\n",
    "]\n",
    "\n",
    "list_tt = []\n",
    "\n",
    "for x in list_t:\n",
    "    z = data.loc[data['organism_name'].str.contains(x)].index.tolist()\n",
    "    if z:\n",
    "        list_tt.append(z)\n",
    "\n",
    "print(len(list_tt))\n",
    "\n",
    "#print(len(data[data['organism_name']].tolist()))\n"
   ]
  },
  {
   "cell_type": "code",
   "execution_count": 7,
   "metadata": {
    "collapsed": false
   },
   "outputs": [
    {
     "data": {
      "text/plain": [
       "99"
      ]
     },
     "execution_count": 7,
     "metadata": {},
     "output_type": "execute_result"
    }
   ],
   "source": [
    "list_ttt = []\n",
    "for x in list_tt:\n",
    "    y = len(x)-1\n",
    "    if y > 5:\n",
    "        y = 5\n",
    "    for xx in range(0, y):\n",
    "        list_ttt.append(data.loc[x[xx]]['# assembly_accession'])\n",
    "\n",
    "len(list_ttt)"
   ]
  },
  {
   "cell_type": "code",
   "execution_count": 8,
   "metadata": {},
   "outputs": [
    {
     "data": {
      "text/plain": [
       "['GCF_000007625.1',\n 'GCF_000762305.1',\n 'GCF_000762315.1',\n 'GCF_000762325.1',\n 'GCF_000762335.1',\n 'GCF_000009685.1',\n 'GCF_000013285.1',\n 'GCF_000171135.1',\n 'GCF_000171155.1',\n 'GCF_000171175.1',\n 'GCF_000008765.1',\n 'GCF_000191905.1',\n 'GCF_000218855.1',\n 'GCF_000785855.1',\n 'GCF_002006385.1',\n 'GCF_000011445.1',\n 'GCF_000023165.1',\n 'GCF_000023685.1',\n 'GCF_000143865.1',\n 'GCF_000253075.1',\n 'GCF_000195875.1',\n 'GCF_000006625.1',\n 'GCF_000019345.1',\n 'GCF_000169895.1',\n 'GCF_000171355.1',\n 'GCF_000171375.1',\n 'GCF_000011225.1',\n 'GCF_000025365.1',\n 'GCF_000025385.1',\n 'GCF_000092585.1',\n 'GCF_000211545.4',\n 'GCF_000286675.1',\n 'GCF_000027345.1',\n 'GCF_000143945.1',\n 'GCF_000283755.1',\n 'GCF_000319655.2',\n 'GCF_000319675.2',\n 'GCF_000027325.1',\n 'GCF_000167595.1',\n 'GCF_000292405.1',\n 'GCF_000292445.1',\n 'GCF_000292485.1',\n 'GCF_000007645.1',\n 'GCF_000011925.1',\n 'GCF_000159575.1',\n 'GCF_000160235.1',\n 'GCF_000164075.1',\n 'GCF_000183905.1',\n 'GCF_000195795.1',\n 'GCF_000241405.1',\n 'GCF_000773035.1',\n 'GCF_000960585.1',\n 'GCF_000196035.1',\n 'GCF_000582845.1',\n 'GCF_000011245.1',\n 'GCF_003019985.1',\n 'GCF_000011145.1',\n 'GCF_004376175.1',\n 'GCF_000009045.1',\n 'GCF_000146565.1',\n 'GCF_000155325.1',\n 'GCF_000155355.1',\n 'GCF_000155375.1',\n 'GCF_000007845.1',\n 'GCF_000008165.1',\n 'GCF_000008445.1',\n 'GCF_000021445.1',\n 'GCF_000022865.1',\n 'GCF_000007825.1',\n 'GCF_000008065.1',\n 'GCF_000091405.1',\n 'GCF_000159355.1',\n 'GCF_000204985.1',\n 'GCF_000498675.1',\n 'GCF_000023085.1',\n 'GCF_000143745.1',\n 'GCF_000148815.2',\n 'GCF_000203855.3',\n 'GCF_000247735.1',\n 'GCF_000007785.1',\n 'GCF_000147215.1',\n 'GCF_000147255.1',\n 'GCF_000147275.1',\n 'GCF_000147295.1',\n 'GCF_000006865.1',\n 'GCF_000009425.1',\n 'GCF_000014545.1',\n 'GCF_000025045.1',\n 'GCF_000143205.1',\n 'GCF_000007045.1',\n 'GCF_000006885.1',\n 'GCF_000167615.1',\n 'GCF_000269665.1',\n 'GCF_000007465.2',\n 'GCF_000091645.1',\n 'GCF_000228745.1',\n 'GCF_000228765.1',\n 'GCF_000228785.1',\n 'GCF_000006785.2']"
      ]
     },
     "execution_count": 8,
     "metadata": {},
     "output_type": "execute_result"
    }
   ],
   "source": [
    "list_ttt"
   ]
  },
  {
   "cell_type": "code",
   "execution_count": 9,
   "metadata": {},
   "outputs": [
    {
     "data": {
      "text/plain": [
       "99"
      ]
     },
     "execution_count": 9,
     "metadata": {},
     "output_type": "execute_result"
    }
   ],
   "source": [
    "list_tttt = []\n",
    "for x in list_tt:\n",
    "    y = len(x)-1\n",
    "    if y > 5:\n",
    "        y = 5\n",
    "    for xx in range(0, y):\n",
    "        list_tttt.append([data.loc[x[xx]]['# assembly_accession'],\n",
    "                         data.loc[x[xx]]['ftp_path']])\n",
    "\n",
    "len(list_tttt)\n"
   ]
  },
  {
   "cell_type": "code",
   "execution_count": 10,
   "metadata": {},
   "outputs": [
    {
     "data": {
      "text/plain": [
       "[['GCF_000007625.1',\n  'ftp://ftp.ncbi.nlm.nih.gov/genomes/all/GCF/000/007/625/GCF_000007625.1_ASM762v1'],\n ['GCF_000762305.1',\n  'ftp://ftp.ncbi.nlm.nih.gov/genomes/all/GCF/000/762/305/GCF_000762305.1_ASM76230v1'],\n ['GCF_000762315.1',\n  'ftp://ftp.ncbi.nlm.nih.gov/genomes/all/GCF/000/762/315/GCF_000762315.1_ASM76231v1'],\n ['GCF_000762325.1',\n  'ftp://ftp.ncbi.nlm.nih.gov/genomes/all/GCF/000/762/325/GCF_000762325.1_ASM76232v1'],\n ['GCF_000762335.1',\n  'ftp://ftp.ncbi.nlm.nih.gov/genomes/all/GCF/000/762/335/GCF_000762335.1_ASM76233v1'],\n ['GCF_000009685.1',\n  'ftp://ftp.ncbi.nlm.nih.gov/genomes/all/GCF/000/009/685/GCF_000009685.1_ASM968v1'],\n ['GCF_000013285.1',\n  'ftp://ftp.ncbi.nlm.nih.gov/genomes/all/GCF/000/013/285/GCF_000013285.1_ASM1328v1'],\n ['GCF_000171135.1',\n  'ftp://ftp.ncbi.nlm.nih.gov/genomes/all/GCF/000/171/135/GCF_000171135.1_ASM17113v1'],\n ['GCF_000171155.1',\n  'ftp://ftp.ncbi.nlm.nih.gov/genomes/all/GCF/000/171/155/GCF_000171155.1_ASM17115v1'],\n ['GCF_000171175.1',\n  'ftp://ftp.ncbi.nlm.nih.gov/genomes/all/GCF/000/171/175/GCF_000171175.1_ASM17117v1'],\n ['GCF_000008765.1',\n  'ftp://ftp.ncbi.nlm.nih.gov/genomes/all/GCF/000/008/765/GCF_000008765.1_ASM876v1'],\n ['GCF_000191905.1',\n  'ftp://ftp.ncbi.nlm.nih.gov/genomes/all/GCF/000/191/905/GCF_000191905.1_ASM19190v1'],\n ['GCF_000218855.1',\n  'ftp://ftp.ncbi.nlm.nih.gov/genomes/all/GCF/000/218/855/GCF_000218855.1_ASM21885v1'],\n ['GCF_000785855.1',\n  'ftp://ftp.ncbi.nlm.nih.gov/genomes/all/GCF/000/785/855/GCF_000785855.1_ASM78585v1'],\n ['GCF_002006385.1',\n  'ftp://ftp.ncbi.nlm.nih.gov/genomes/all/GCF/002/006/385/GCF_002006385.1_ASM200638v1'],\n ['GCF_000011445.1',\n  'ftp://ftp.ncbi.nlm.nih.gov/genomes/all/GCF/000/011/445/GCF_000011445.1_ASM1144v1'],\n ['GCF_000023165.1',\n  'ftp://ftp.ncbi.nlm.nih.gov/genomes/all/GCF/000/023/165/GCF_000023165.1_ASM2316v1'],\n ['GCF_000023685.1',\n  'ftp://ftp.ncbi.nlm.nih.gov/genomes/all/GCF/000/023/685/GCF_000023685.1_ASM2368v1'],\n ['GCF_000143865.1',\n  'ftp://ftp.ncbi.nlm.nih.gov/genomes/all/GCF/000/143/865/GCF_000143865.1_ASM14386v1'],\n ['GCF_000253075.1',\n  'ftp://ftp.ncbi.nlm.nih.gov/genomes/all/GCF/000/253/075/GCF_000253075.1_ASM25307v1'],\n ['GCF_000195875.1',\n  'ftp://ftp.ncbi.nlm.nih.gov/genomes/all/GCF/000/195/875/GCF_000195875.1_ASM19587v1'],\n ['GCF_000006625.1',\n  'ftp://ftp.ncbi.nlm.nih.gov/genomes/all/GCF/000/006/625/GCF_000006625.1_ASM662v1'],\n ['GCF_000019345.1',\n  'ftp://ftp.ncbi.nlm.nih.gov/genomes/all/GCF/000/019/345/GCF_000019345.1_ASM1934v1'],\n ['GCF_000169895.1',\n  'ftp://ftp.ncbi.nlm.nih.gov/genomes/all/GCF/000/169/895/GCF_000169895.1_ASM16989v1'],\n ['GCF_000171355.1',\n  'ftp://ftp.ncbi.nlm.nih.gov/genomes/all/GCF/000/171/355/GCF_000171355.1_ASM17135v1'],\n ['GCF_000171375.1',\n  'ftp://ftp.ncbi.nlm.nih.gov/genomes/all/GCF/000/171/375/GCF_000171375.1_ASM17137v1'],\n ['GCF_000011225.1',\n  'ftp://ftp.ncbi.nlm.nih.gov/genomes/all/GCF/000/011/225/GCF_000011225.1_ASM1122v1'],\n ['GCF_000025365.1',\n  'ftp://ftp.ncbi.nlm.nih.gov/genomes/all/GCF/000/025/365/GCF_000025365.1_ASM2536v1'],\n ['GCF_000025385.1',\n  'ftp://ftp.ncbi.nlm.nih.gov/genomes/all/GCF/000/025/385/GCF_000025385.1_ASM2538v1'],\n ['GCF_000092585.1',\n  'ftp://ftp.ncbi.nlm.nih.gov/genomes/all/GCF/000/092/585/GCF_000092585.1_ASM9258v1'],\n ['GCF_000211545.4',\n  'ftp://ftp.ncbi.nlm.nih.gov/genomes/all/GCF/000/211/545/GCF_000211545.4_ASM21154v6'],\n ['GCF_000286675.1',\n  'ftp://ftp.ncbi.nlm.nih.gov/genomes/all/GCF/000/286/675/GCF_000286675.1_ASM28667v1'],\n ['GCF_000027345.1',\n  'ftp://ftp.ncbi.nlm.nih.gov/genomes/all/GCF/000/027/345/GCF_000027345.1_ASM2734v1'],\n ['GCF_000143945.1',\n  'ftp://ftp.ncbi.nlm.nih.gov/genomes/all/GCF/000/143/945/GCF_000143945.1_ASM14394v1'],\n ['GCF_000283755.1',\n  'ftp://ftp.ncbi.nlm.nih.gov/genomes/all/GCF/000/283/755/GCF_000283755.1_ASM28375v1'],\n ['GCF_000319655.2',\n  'ftp://ftp.ncbi.nlm.nih.gov/genomes/all/GCF/000/319/655/GCF_000319655.2_ASM31965v2'],\n ['GCF_000319675.2',\n  'ftp://ftp.ncbi.nlm.nih.gov/genomes/all/GCF/000/319/675/GCF_000319675.2_ASM31967v2'],\n ['GCF_000027325.1',\n  'ftp://ftp.ncbi.nlm.nih.gov/genomes/all/GCF/000/027/325/GCF_000027325.1_ASM2732v1'],\n ['GCF_000167595.1',\n  'ftp://ftp.ncbi.nlm.nih.gov/genomes/all/GCF/000/167/595/GCF_000167595.1_ASM16759v1'],\n ['GCF_000292405.1',\n  'ftp://ftp.ncbi.nlm.nih.gov/genomes/all/GCF/000/292/405/GCF_000292405.1_ASM29240v1'],\n ['GCF_000292445.1',\n  'ftp://ftp.ncbi.nlm.nih.gov/genomes/all/GCF/000/292/445/GCF_000292445.1_ASM29244v1'],\n ['GCF_000292485.1',\n  'ftp://ftp.ncbi.nlm.nih.gov/genomes/all/GCF/000/292/485/GCF_000292485.1_ASM29248v1'],\n ['GCF_000007645.1',\n  'ftp://ftp.ncbi.nlm.nih.gov/genomes/all/GCF/000/007/645/GCF_000007645.1_ASM764v1'],\n ['GCF_000011925.1',\n  'ftp://ftp.ncbi.nlm.nih.gov/genomes/all/GCF/000/011/925/GCF_000011925.1_ASM1192v1'],\n ['GCF_000159575.1',\n  'ftp://ftp.ncbi.nlm.nih.gov/genomes/all/GCF/000/159/575/GCF_000159575.1_ASM15957v1'],\n ['GCF_000160235.1',\n  'ftp://ftp.ncbi.nlm.nih.gov/genomes/all/GCF/000/160/235/GCF_000160235.1_ASM16023v1'],\n ['GCF_000164075.1',\n  'ftp://ftp.ncbi.nlm.nih.gov/genomes/all/GCF/000/164/075/GCF_000164075.1_ASM16407v1'],\n ['GCF_000183905.1',\n  'ftp://ftp.ncbi.nlm.nih.gov/genomes/all/GCF/000/183/905/GCF_000183905.1_ASM18390v1'],\n ['GCF_000195795.1',\n  'ftp://ftp.ncbi.nlm.nih.gov/genomes/all/GCF/000/195/795/GCF_000195795.1_ASM19579v1'],\n ['GCF_000241405.1',\n  'ftp://ftp.ncbi.nlm.nih.gov/genomes/all/GCF/000/241/405/GCF_000241405.1_ASM24140v1'],\n ['GCF_000773035.1',\n  'ftp://ftp.ncbi.nlm.nih.gov/genomes/all/GCF/000/773/035/GCF_000773035.1_LS888'],\n ['GCF_000960585.1',\n  'ftp://ftp.ncbi.nlm.nih.gov/genomes/all/GCF/000/960/585/GCF_000960585.1_ASM96058v1'],\n ['GCF_000196035.1',\n  'ftp://ftp.ncbi.nlm.nih.gov/genomes/all/GCF/000/196/035/GCF_000196035.1_ASM19603v1'],\n ['GCF_000582845.1',\n  'ftp://ftp.ncbi.nlm.nih.gov/genomes/all/GCF/000/582/845/GCF_000582845.1_SV_1'],\n ['GCF_000011245.1',\n  'ftp://ftp.ncbi.nlm.nih.gov/genomes/all/GCF/000/011/245/GCF_000011245.1_ASM1124v1'],\n ['GCF_003019985.1',\n  'ftp://ftp.ncbi.nlm.nih.gov/genomes/all/GCF/003/019/985/GCF_003019985.1_ASM301998v1'],\n ['GCF_000011145.1',\n  'ftp://ftp.ncbi.nlm.nih.gov/genomes/all/GCF/000/011/145/GCF_000011145.1_ASM1114v1'],\n ['GCF_004376175.1',\n  'ftp://ftp.ncbi.nlm.nih.gov/genomes/all/GCF/004/376/175/GCF_004376175.1_ASM437617v1'],\n ['GCF_000009045.1',\n  'ftp://ftp.ncbi.nlm.nih.gov/genomes/all/GCF/000/009/045/GCF_000009045.1_ASM904v1'],\n ['GCF_000146565.1',\n  'ftp://ftp.ncbi.nlm.nih.gov/genomes/all/GCF/000/146/565/GCF_000146565.1_ASM14656v1'],\n ['GCF_000155325.1',\n  'ftp://ftp.ncbi.nlm.nih.gov/genomes/all/GCF/000/155/325/GCF_000155325.1_ASM15532v1'],\n ['GCF_000155355.1',\n  'ftp://ftp.ncbi.nlm.nih.gov/genomes/all/GCF/000/155/355/GCF_000155355.1_ASM15535v1'],\n ['GCF_000155375.1',\n  'ftp://ftp.ncbi.nlm.nih.gov/genomes/all/GCF/000/155/375/GCF_000155375.1_ASM15537v1'],\n ['GCF_000007845.1',\n  'ftp://ftp.ncbi.nlm.nih.gov/genomes/all/GCF/000/007/845/GCF_000007845.1_ASM784v1'],\n ['GCF_000008165.1',\n  'ftp://ftp.ncbi.nlm.nih.gov/genomes/all/GCF/000/008/165/GCF_000008165.1_ASM816v1'],\n ['GCF_000008445.1',\n  'ftp://ftp.ncbi.nlm.nih.gov/genomes/all/GCF/000/008/445/GCF_000008445.1_ASM844v1'],\n ['GCF_000021445.1',\n  'ftp://ftp.ncbi.nlm.nih.gov/genomes/all/GCF/000/021/445/GCF_000021445.1_ASM2144v1'],\n ['GCF_000022865.1',\n  'ftp://ftp.ncbi.nlm.nih.gov/genomes/all/GCF/000/022/865/GCF_000022865.1_ASM2286v1'],\n ['GCF_000007825.1',\n  'ftp://ftp.ncbi.nlm.nih.gov/genomes/all/GCF/000/007/825/GCF_000007825.1_ASM782v1'],\n ['GCF_000008065.1',\n  'ftp://ftp.ncbi.nlm.nih.gov/genomes/all/GCF/000/008/065/GCF_000008065.1_ASM806v1'],\n ['GCF_000091405.1',\n  'ftp://ftp.ncbi.nlm.nih.gov/genomes/all/GCF/000/091/405/GCF_000091405.1_ASM9140v1'],\n ['GCF_000159355.1',\n  'ftp://ftp.ncbi.nlm.nih.gov/genomes/all/GCF/000/159/355/GCF_000159355.1_ASM15935v1'],\n ['GCF_000204985.1',\n  'ftp://ftp.ncbi.nlm.nih.gov/genomes/all/GCF/000/204/985/GCF_000204985.1_ASM20498v1'],\n ['GCF_000498675.1',\n  'ftp://ftp.ncbi.nlm.nih.gov/genomes/all/GCF/000/498/675/GCF_000498675.1_ASM49867v1'],\n ['GCF_000023085.1',\n  'ftp://ftp.ncbi.nlm.nih.gov/genomes/all/GCF/000/023/085/GCF_000023085.1_ASM2308v1'],\n ['GCF_000143745.1',\n  'ftp://ftp.ncbi.nlm.nih.gov/genomes/all/GCF/000/143/745/GCF_000143745.1_ASM14374v1'],\n ['GCF_000148815.2',\n  'ftp://ftp.ncbi.nlm.nih.gov/genomes/all/GCF/000/148/815/GCF_000148815.2_ASM14881v1'],\n ['GCF_000203855.3',\n  'ftp://ftp.ncbi.nlm.nih.gov/genomes/all/GCF/000/203/855/GCF_000203855.3_ASM20385v3'],\n ['GCF_000247735.1',\n  'ftp://ftp.ncbi.nlm.nih.gov/genomes/all/GCF/000/247/735/GCF_000247735.1_ASM24773v2'],\n ['GCF_000007785.1',\n  'ftp://ftp.ncbi.nlm.nih.gov/genomes/all/GCF/000/007/785/GCF_000007785.1_ASM778v1'],\n ['GCF_000147215.1',\n  'ftp://ftp.ncbi.nlm.nih.gov/genomes/all/GCF/000/147/215/GCF_000147215.1_ASM14721v1'],\n ['GCF_000147255.1',\n  'ftp://ftp.ncbi.nlm.nih.gov/genomes/all/GCF/000/147/255/GCF_000147255.1_ASM14725v1'],\n ['GCF_000147275.1',\n  'ftp://ftp.ncbi.nlm.nih.gov/genomes/all/GCF/000/147/275/GCF_000147275.1_ASM14727v1'],\n ['GCF_000147295.1',\n  'ftp://ftp.ncbi.nlm.nih.gov/genomes/all/GCF/000/147/295/GCF_000147295.1_ASM14729v1'],\n ['GCF_000006865.1',\n  'ftp://ftp.ncbi.nlm.nih.gov/genomes/all/GCF/000/006/865/GCF_000006865.1_ASM686v1'],\n ['GCF_000009425.1',\n  'ftp://ftp.ncbi.nlm.nih.gov/genomes/all/GCF/000/009/425/GCF_000009425.1_ASM942v1'],\n ['GCF_000014545.1',\n  'ftp://ftp.ncbi.nlm.nih.gov/genomes/all/GCF/000/014/545/GCF_000014545.1_ASM1454v1'],\n ['GCF_000025045.1',\n  'ftp://ftp.ncbi.nlm.nih.gov/genomes/all/GCF/000/025/045/GCF_000025045.1_ASM2504v1'],\n ['GCF_000143205.1',\n  'ftp://ftp.ncbi.nlm.nih.gov/genomes/all/GCF/000/143/205/GCF_000143205.1_ASM14320v1'],\n ['GCF_000007045.1',\n  'ftp://ftp.ncbi.nlm.nih.gov/genomes/all/GCF/000/007/045/GCF_000007045.1_ASM704v1'],\n ['GCF_000006885.1',\n  'ftp://ftp.ncbi.nlm.nih.gov/genomes/all/GCF/000/006/885/GCF_000006885.1_ASM688v1'],\n ['GCF_000167615.1',\n  'ftp://ftp.ncbi.nlm.nih.gov/genomes/all/GCF/000/167/615/GCF_000167615.1_ASM16761v1'],\n ['GCF_000269665.1',\n  'ftp://ftp.ncbi.nlm.nih.gov/genomes/all/GCF/000/269/665/GCF_000269665.1_PB_Stre_pneu_Tigr4_V1'],\n ['GCF_000007465.2',\n  'ftp://ftp.ncbi.nlm.nih.gov/genomes/all/GCF/000/007/465/GCF_000007465.2_ASM746v2'],\n ['GCF_000091645.1',\n  'ftp://ftp.ncbi.nlm.nih.gov/genomes/all/GCF/000/091/645/GCF_000091645.1_ASM9164v1'],\n ['GCF_000228745.1',\n  'ftp://ftp.ncbi.nlm.nih.gov/genomes/all/GCF/000/228/745/GCF_000228745.1_SMUT4-NEX_2-101'],\n ['GCF_000228765.1',\n  'ftp://ftp.ncbi.nlm.nih.gov/genomes/all/GCF/000/228/765/GCF_000228765.1_SMUT4-NEX_3-109'],\n ['GCF_000228785.1',\n  'ftp://ftp.ncbi.nlm.nih.gov/genomes/all/GCF/000/228/785/GCF_000228785.1_SMUT3-NEX_4-11'],\n ['GCF_000006785.2',\n  'ftp://ftp.ncbi.nlm.nih.gov/genomes/all/GCF/000/006/785/GCF_000006785.2_ASM678v2']]"
      ]
     },
     "execution_count": 10,
     "metadata": {},
     "output_type": "execute_result"
    }
   ],
   "source": [
    "list_tttt"
   ]
  },
  {
   "cell_type": "code",
   "execution_count": 11,
   "metadata": {},
   "outputs": [
    {
     "data": {
      "text/plain": [
       "99"
      ]
     },
     "execution_count": 11,
     "metadata": {},
     "output_type": "execute_result"
    }
   ],
   "source": [
    "list_ttttt = []\n",
    "for x in list_tt:\n",
    "    y = len(x)-1\n",
    "    if y > 5:\n",
    "        y = 5\n",
    "    for xx in range(0, y):\n",
    "        list_ttttt.append([data.loc[x[xx]]['# assembly_accession'],\n",
    "                         data.loc[x[xx]]['organism_name']])\n",
    "\n",
    "len(list_ttttt)"
   ]
  },
  {
   "cell_type": "code",
   "execution_count": 12,
   "metadata": {},
   "outputs": [
    {
     "data": {
      "text/plain": [
       "[['GCF_000007625.1', 'Clostridium tetani E88'],\n ['GCF_000762305.1', 'Clostridium tetani'],\n ['GCF_000762315.1', 'Clostridium tetani ATCC 9441'],\n ['GCF_000762325.1', 'Clostridium tetani'],\n ['GCF_000762335.1', 'Clostridium tetani'],\n ['GCF_000009685.1', 'Clostridium perfringens str. 13'],\n ['GCF_000013285.1', 'Clostridium perfringens ATCC 13124'],\n ['GCF_000171135.1', 'Clostridium perfringens C str. JGS1495'],\n ['GCF_000171155.1', 'Clostridium perfringens B str. ATCC 3626'],\n ['GCF_000171175.1', 'Clostridium perfringens E str. JGS1987'],\n ['GCF_000008765.1', 'Clostridium acetobutylicum ATCC 824'],\n ['GCF_000191905.1', 'Clostridium acetobutylicum EA 2018'],\n ['GCF_000218855.1', 'Clostridium acetobutylicum DSM 1731'],\n ['GCF_000785855.1', 'Clostridium acetobutylicum'],\n ['GCF_002006385.1', 'Clostridium acetobutylicum'],\n ['GCF_000011445.1', 'Mycoplasma mycoides subsp. mycoides SC str. PG1'],\n ['GCF_000023165.1', 'Mycoplasma mycoides subsp. capri str. GM12'],\n ['GCF_000023685.1', 'Mycoplasma mycoides subsp. capri str. GM12'],\n ['GCF_000143865.1', 'Mycoplasma mycoides subsp. mycoides SC str. Gladysdale'],\n ['GCF_000253075.1', 'Mycoplasma mycoides subsp. capri LC str. 95010'],\n ['GCF_000195875.1', 'Mycoplasma pulmonis UAB CTIP'],\n ['GCF_000006625.1', 'Ureaplasma parvum serovar 3 str. ATCC 700970'],\n ['GCF_000019345.1', 'Ureaplasma parvum serovar 3 str. ATCC 27815'],\n ['GCF_000169895.1', 'Ureaplasma parvum serovar 6 str. ATCC 27818'],\n ['GCF_000171355.1', 'Ureaplasma parvum serovar 14 str. ATCC 33697'],\n ['GCF_000171375.1', 'Ureaplasma parvum serovar 1 str. ATCC 27813'],\n ['GCF_000011225.1', 'Mycoplasma penetrans HF-2'],\n ['GCF_000025365.1', 'Mycoplasma gallisepticum str. R(high)'],\n ['GCF_000025385.1', 'Mycoplasma gallisepticum str. F'],\n ['GCF_000092585.1', 'Mycoplasma gallisepticum str. R(low)'],\n ['GCF_000211545.4', 'Mycoplasma gallisepticum S6'],\n ['GCF_000286675.1', 'Mycoplasma gallisepticum VA94_7994-1-7P'],\n ['GCF_000027345.1', 'Mycoplasma pneumoniae M129'],\n ['GCF_000143945.1', 'Mycoplasma pneumoniae FH'],\n ['GCF_000283755.1', 'Mycoplasma pneumoniae 309'],\n ['GCF_000319655.2', 'Mycoplasma pneumoniae PO1'],\n ['GCF_000319675.2', 'Mycoplasma pneumoniae PI 1428'],\n ['GCF_000027325.1', 'Mycoplasma genitalium G37'],\n ['GCF_000167595.1', 'Mycoplasma genitalium G37'],\n ['GCF_000292405.1', 'Mycoplasma genitalium M2321'],\n ['GCF_000292445.1', 'Mycoplasma genitalium M6282'],\n ['GCF_000292485.1', 'Mycoplasma genitalium M6320'],\n ['GCF_000007645.1', 'Staphylococcus epidermidis ATCC 12228'],\n ['GCF_000011925.1', 'Staphylococcus epidermidis RP62A'],\n ['GCF_000159575.1', 'Staphylococcus epidermidis BCM-HMP0060'],\n ['GCF_000160235.1', 'Staphylococcus epidermidis W23144'],\n ['GCF_000164075.1', 'Staphylococcus epidermidis M23864:W2(grey)'],\n ['GCF_000183905.1', 'Listeria innocua FSL J1-023'],\n ['GCF_000195795.1', 'Listeria innocua Clip11262'],\n ['GCF_000241405.1', 'Listeria innocua ATCC 33091'],\n ['GCF_000773035.1', 'Listeria innocua'],\n ['GCF_000960585.1', 'Listeria innocua'],\n ['GCF_000196035.1', 'Listeria monocytogenes EGD-e'],\n ['GCF_000582845.1', 'Listeria monocytogenes EGD'],\n ['GCF_000011245.1', 'Oceanobacillus iheyensis HTE831'],\n ['GCF_003019985.1', 'Oceanobacillus iheyensis'],\n ['GCF_000011145.1', 'Bacillus halodurans C-125'],\n ['GCF_004376175.1', 'Bacillus halodurans'],\n ['GCF_000009045.1', 'Bacillus subtilis subsp. subtilis str. 168'],\n ['GCF_000146565.1', 'Bacillus subtilis subsp. spizizenii str. W23'],\n ['GCF_000155325.1', 'Bacillus subtilis subsp. subtilis str. 168'],\n ['GCF_000155355.1', 'Bacillus subtilis subsp. subtilis str. JH642'],\n ['GCF_000155375.1', 'Bacillus subtilis subsp. subtilis str. SMY'],\n ['GCF_000007845.1', 'Bacillus anthracis str. Ames'],\n ['GCF_000008165.1', 'Bacillus anthracis str. Sterne'],\n ['GCF_000008445.1', \"Bacillus anthracis str. 'Ames Ancestor'\"],\n ['GCF_000021445.1', 'Bacillus anthracis str. CDC 684'],\n ['GCF_000022865.1', 'Bacillus anthracis str. A0248'],\n ['GCF_000007825.1', 'Bacillus cereus ATCC 14579'],\n ['GCF_000008065.1', 'Lactobacillus johnsonii NCC 533'],\n ['GCF_000091405.1', 'Lactobacillus johnsonii FI9785'],\n ['GCF_000159355.1', 'Lactobacillus johnsonii ATCC 33200'],\n ['GCF_000204985.1', 'Lactobacillus johnsonii DPC 6026'],\n ['GCF_000498675.1', 'Lactobacillus johnsonii N6.2'],\n ['GCF_000023085.1', 'Lactobacillus plantarum JDM1'],\n ['GCF_000143745.1',\n  'Lactobacillus plantarum subsp. plantarum ATCC 14917 = JCM 1149 = CGMCC 1.2437'],\n ['GCF_000148815.2', 'Lactobacillus plantarum subsp. plantarum ST-III'],\n ['GCF_000203855.3', 'Lactobacillus plantarum WCFS1'],\n ['GCF_000247735.1', 'Lactobacillus plantarum subsp. plantarum NC8'],\n ['GCF_000007785.1', 'Enterococcus faecalis V583'],\n ['GCF_000147215.1', 'Enterococcus faecalis TX0102'],\n ['GCF_000147255.1', 'Enterococcus faecalis TX0630'],\n ['GCF_000147275.1', 'Enterococcus faecalis TX0031'],\n ['GCF_000147295.1', 'Enterococcus faecalis TX4244'],\n ['GCF_000006865.1', 'Lactococcus lactis subsp. lactis Il1403'],\n ['GCF_000009425.1', 'Lactococcus lactis subsp. cremoris MG1363'],\n ['GCF_000014545.1', 'Lactococcus lactis subsp. cremoris SK11'],\n ['GCF_000025045.1', 'Lactococcus lactis subsp. lactis KF147'],\n ['GCF_000143205.1', 'Lactococcus lactis subsp. cremoris NZ9000'],\n ['GCF_000007045.1', 'Streptococcus pneumoniae R6'],\n ['GCF_000006885.1', 'Streptococcus pneumoniae TIGR4'],\n ['GCF_000167615.1', 'Streptococcus pneumoniae TIGR4'],\n ['GCF_000269665.1', 'Streptococcus pneumoniae TIGR4'],\n ['GCF_000007465.2', 'Streptococcus mutans UA159'],\n ['GCF_000091645.1', 'Streptococcus mutans NN2025'],\n ['GCF_000228745.1', 'Streptococcus mutans TCI-101'],\n ['GCF_000228765.1', 'Streptococcus mutans TCI-109'],\n ['GCF_000228785.1', 'Streptococcus mutans TCI-11'],\n ['GCF_000006785.2', 'Streptococcus pyogenes M1 GAS']]"
      ]
     },
     "execution_count": 12,
     "metadata": {},
     "output_type": "execute_result"
    }
   ],
   "source": [
    "list_ttttt"
   ]
  },
  {
   "cell_type": "code",
   "execution_count": null,
   "metadata": {},
   "outputs": [],
   "source": []
  }
 ],
 "metadata": {
  "kernelspec": {
   "display_name": "Python 2",
   "language": "python",
   "name": "python2"
  },
  "language_info": {
   "codemirror_mode": {
    "name": "ipython",
    "version": 2
   },
   "file_extension": ".py",
   "mimetype": "text/x-python",
   "name": "python",
   "nbconvert_exporter": "python",
   "pygments_lexer": "ipython2",
   "version": "2.7.6"
  }
 },
 "nbformat": 4,
 "nbformat_minor": 0
}
